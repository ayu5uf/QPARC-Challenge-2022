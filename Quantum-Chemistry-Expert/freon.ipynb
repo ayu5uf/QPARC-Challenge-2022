{
 "cells": [
  {
   "cell_type": "markdown",
   "metadata": {},
   "source": [
    "# Qulacs & openfermion & psi4 で VQE\n",
    "\n",
    "必要なもの\n",
    "\n",
    "- qulacs\n",
    "- openfermion\n",
    "- openfermion-psi4\n",
    "- psi4\n",
    "- scipy\n",
    "- numpy"
   ]
  },
  {
   "cell_type": "code",
   "execution_count": 1,
   "metadata": {},
   "outputs": [],
   "source": [
    "import sys, os\n",
    "import qulacs\n",
    "\n",
    "from openfermion.transforms import get_fermion_operator, jordan_wigner\n",
    "from openfermion.utils import Grid\n",
    "from openfermion.linalg import get_sparse_operator\n",
    "from openfermion.chem import MolecularData\n",
    "from openfermionpsi4 import run_psi4\n",
    "\n",
    "from scipy.optimize import minimize\n",
    "import numpy as np\n",
    "import matplotlib.pyplot as plt"
   ]
  },
  {
   "cell_type": "code",
   "execution_count": 2,
   "metadata": {},
   "outputs": [
    {
     "name": "stdout",
     "output_type": "stream",
     "text": [
      "[('Cl', (-1.4594, -0.9208, -0.0001)), ('Cl', (1.4592, -0.921, -0.0002)), ('F', (0.0002, 0.8843, 1.0887)), ('F', (0, 0.8847, -1.0884)), ('C', (0, 0.0728, 0))]\n"
     ]
    }
   ],
   "source": [
    "from openfermion.chem import geometry_from_pubchem\n",
    "\n",
    "methane_geometry = geometry_from_pubchem('Dichlorodifluoromethane')\n",
    "print(methane_geometry)\n"
   ]
  },
  {
   "cell_type": "code",
   "execution_count": 3,
   "metadata": {},
   "outputs": [
    {
     "name": "stdout",
     "output_type": "stream",
     "text": [
      "Molecule has automatically generated name C1-F2-Cl2_sto-3g_singlet_1.29\n",
      "Information about this molecule would be saved at:\n",
      "/home/yourn/.conda/envs/qe/lib/python3.9/site-packages/openfermion/testing/data/C1-F2-Cl2_sto-3g_singlet_1.29\n",
      "\n",
      "This molecule has 5 atoms and 58 electrons.\n",
      "Contains C atom, which has 6 protons.\n",
      "Contains F atom, which has 9 protons.\n",
      "Contains F atom, which has 9 protons.\n",
      "Contains Cl atom, which has 17 protons.\n",
      "Contains Cl atom, which has 17 protons.\n"
     ]
    }
   ],
   "source": [
    "from openfermion.chem import MolecularData\n",
    "\n",
    "# Set parameters to make a simple molecule.\n",
    "diatomic_bond_length = 1.29\n",
    "geometry = [('Cl', (-1.4594, -0.9208, -0.0001)), ('Cl', (1.4592, -0.921, -0.0002)), ('F', (0.0002, 0.8843, 1.0887)), ('F', (0, 0.8847, -1.0884)), ('C', (0, 0.0728, 0))]\n",
    "basis = 'sto-3g'\n",
    "multiplicity = 1\n",
    "charge = 0\n",
    "description = str(diatomic_bond_length)\n",
    "\n",
    "# Make molecule and print out a few interesting facts about it.\n",
    "molecule = MolecularData(geometry, basis, multiplicity,\n",
    "                         charge, description)\n",
    "print('Molecule has automatically generated name {}'.format(\n",
    "    molecule.name))\n",
    "print('Information about this molecule would be saved at:\\n{}\\n'.format(\n",
    "    molecule.filename))\n",
    "print('This molecule has {} atoms and {} electrons.'.format(\n",
    "    molecule.n_atoms, molecule.n_electrons))\n",
    "for atom, atomic_number in zip(molecule.atoms, molecule.protons):\n",
    "    print('Contains {} atom, which has {} protons.'.format(\n",
    "        atom, atomic_number))"
   ]
  },
  {
   "cell_type": "code",
   "execution_count": null,
   "metadata": {},
   "outputs": [],
   "source": []
  },
  {
   "cell_type": "code",
   "execution_count": 4,
   "metadata": {},
   "outputs": [
    {
     "name": "stdout",
     "output_type": "stream",
     "text": [
      "Psi4 calculation for C1-F2-Cl2_3-21g_singlet_0.2 has failed.\n"
     ]
    },
    {
     "ename": "KeyboardInterrupt",
     "evalue": "",
     "output_type": "error",
     "traceback": [
      "\u001b[0;31m---------------------------------------------------------------------------\u001b[0m",
      "\u001b[0;31mKeyboardInterrupt\u001b[0m                         Traceback (most recent call last)",
      "\u001b[1;32m/home/yourn/dev/qe/freon.ipynb Cell 6'\u001b[0m in \u001b[0;36m<cell line: 23>\u001b[0;34m()\u001b[0m\n\u001b[1;32m     <a href='vscode-notebook-cell:/home/yourn/dev/qe/freon.ipynb#ch0000005?line=26'>27</a>\u001b[0m molecule \u001b[39m=\u001b[39m MolecularData(\n\u001b[1;32m     <a href='vscode-notebook-cell:/home/yourn/dev/qe/freon.ipynb#ch0000005?line=27'>28</a>\u001b[0m     geometry, basis, multiplicity,\n\u001b[1;32m     <a href='vscode-notebook-cell:/home/yourn/dev/qe/freon.ipynb#ch0000005?line=28'>29</a>\u001b[0m     description\u001b[39m=\u001b[39m\u001b[39mstr\u001b[39m(\u001b[39mround\u001b[39m(bond_length, \u001b[39m2\u001b[39m)))\n\u001b[1;32m     <a href='vscode-notebook-cell:/home/yourn/dev/qe/freon.ipynb#ch0000005?line=30'>31</a>\u001b[0m \u001b[39m# Run Psi4.\u001b[39;00m\n\u001b[0;32m---> <a href='vscode-notebook-cell:/home/yourn/dev/qe/freon.ipynb#ch0000005?line=31'>32</a>\u001b[0m molecule \u001b[39m=\u001b[39m run_psi4(molecule,\n\u001b[1;32m     <a href='vscode-notebook-cell:/home/yourn/dev/qe/freon.ipynb#ch0000005?line=32'>33</a>\u001b[0m                     run_scf\u001b[39m=\u001b[39;49mrun_scf,\n\u001b[1;32m     <a href='vscode-notebook-cell:/home/yourn/dev/qe/freon.ipynb#ch0000005?line=33'>34</a>\u001b[0m                     run_mp2\u001b[39m=\u001b[39;49mrun_mp2,\n\u001b[1;32m     <a href='vscode-notebook-cell:/home/yourn/dev/qe/freon.ipynb#ch0000005?line=34'>35</a>\u001b[0m                     run_cisd\u001b[39m=\u001b[39;49mrun_cisd,\n\u001b[1;32m     <a href='vscode-notebook-cell:/home/yourn/dev/qe/freon.ipynb#ch0000005?line=35'>36</a>\u001b[0m                     run_ccsd\u001b[39m=\u001b[39;49mrun_ccsd,\n\u001b[1;32m     <a href='vscode-notebook-cell:/home/yourn/dev/qe/freon.ipynb#ch0000005?line=36'>37</a>\u001b[0m                     run_fci\u001b[39m=\u001b[39;49mrun_fci)\n\u001b[1;32m     <a href='vscode-notebook-cell:/home/yourn/dev/qe/freon.ipynb#ch0000005?line=37'>38</a>\u001b[0m n_qubit \u001b[39m=\u001b[39m molecule\u001b[39m.\u001b[39mn_qubits\n\u001b[1;32m     <a href='vscode-notebook-cell:/home/yourn/dev/qe/freon.ipynb#ch0000005?line=38'>39</a>\u001b[0m n_electron \u001b[39m=\u001b[39m molecule\u001b[39m.\u001b[39mn_electrons\n",
      "File \u001b[0;32m~/.conda/envs/qe/lib/python3.9/site-packages/openfermionpsi4/_run_psi4.py:210\u001b[0m, in \u001b[0;36mrun_psi4\u001b[0;34m(molecule, run_scf, run_mp2, run_cisd, run_ccsd, run_fci, verbose, tolerate_error, delete_input, delete_output, memory, template_file)\u001b[0m\n\u001b[1;32m    <a href='file:///home/yourn/.conda/envs/qe/lib/python3.9/site-packages/openfermionpsi4/_run_psi4.py?line=207'>208</a>\u001b[0m \u001b[39mtry\u001b[39;00m:\n\u001b[1;32m    <a href='file:///home/yourn/.conda/envs/qe/lib/python3.9/site-packages/openfermionpsi4/_run_psi4.py?line=208'>209</a>\u001b[0m     process \u001b[39m=\u001b[39m subprocess\u001b[39m.\u001b[39mPopen([\u001b[39m'\u001b[39m\u001b[39mpsi4\u001b[39m\u001b[39m'\u001b[39m, input_file, output_file])\n\u001b[0;32m--> <a href='file:///home/yourn/.conda/envs/qe/lib/python3.9/site-packages/openfermionpsi4/_run_psi4.py?line=209'>210</a>\u001b[0m     process\u001b[39m.\u001b[39;49mwait()\n\u001b[1;32m    <a href='file:///home/yourn/.conda/envs/qe/lib/python3.9/site-packages/openfermionpsi4/_run_psi4.py?line=210'>211</a>\u001b[0m \u001b[39mexcept\u001b[39;00m:\n\u001b[1;32m    <a href='file:///home/yourn/.conda/envs/qe/lib/python3.9/site-packages/openfermionpsi4/_run_psi4.py?line=211'>212</a>\u001b[0m     \u001b[39mprint\u001b[39m(\u001b[39m'\u001b[39m\u001b[39mPsi4 calculation for \u001b[39m\u001b[39m{}\u001b[39;00m\u001b[39m has failed.\u001b[39m\u001b[39m'\u001b[39m\u001b[39m.\u001b[39mformat(molecule\u001b[39m.\u001b[39mname))\n",
      "File \u001b[0;32m~/.conda/envs/qe/lib/python3.9/subprocess.py:1189\u001b[0m, in \u001b[0;36mPopen.wait\u001b[0;34m(self, timeout)\u001b[0m\n\u001b[1;32m   <a href='file:///home/yourn/.conda/envs/qe/lib/python3.9/subprocess.py?line=1186'>1187</a>\u001b[0m     endtime \u001b[39m=\u001b[39m _time() \u001b[39m+\u001b[39m timeout\n\u001b[1;32m   <a href='file:///home/yourn/.conda/envs/qe/lib/python3.9/subprocess.py?line=1187'>1188</a>\u001b[0m \u001b[39mtry\u001b[39;00m:\n\u001b[0;32m-> <a href='file:///home/yourn/.conda/envs/qe/lib/python3.9/subprocess.py?line=1188'>1189</a>\u001b[0m     \u001b[39mreturn\u001b[39;00m \u001b[39mself\u001b[39;49m\u001b[39m.\u001b[39;49m_wait(timeout\u001b[39m=\u001b[39;49mtimeout)\n\u001b[1;32m   <a href='file:///home/yourn/.conda/envs/qe/lib/python3.9/subprocess.py?line=1189'>1190</a>\u001b[0m \u001b[39mexcept\u001b[39;00m \u001b[39mKeyboardInterrupt\u001b[39;00m:\n\u001b[1;32m   <a href='file:///home/yourn/.conda/envs/qe/lib/python3.9/subprocess.py?line=1190'>1191</a>\u001b[0m     \u001b[39m# https://bugs.python.org/issue25942\u001b[39;00m\n\u001b[1;32m   <a href='file:///home/yourn/.conda/envs/qe/lib/python3.9/subprocess.py?line=1191'>1192</a>\u001b[0m     \u001b[39m# The first keyboard interrupt waits briefly for the child to\u001b[39;00m\n\u001b[1;32m   <a href='file:///home/yourn/.conda/envs/qe/lib/python3.9/subprocess.py?line=1192'>1193</a>\u001b[0m     \u001b[39m# exit under the common assumption that it also received the ^C\u001b[39;00m\n\u001b[1;32m   <a href='file:///home/yourn/.conda/envs/qe/lib/python3.9/subprocess.py?line=1193'>1194</a>\u001b[0m     \u001b[39m# generated SIGINT and will exit rapidly.\u001b[39;00m\n\u001b[1;32m   <a href='file:///home/yourn/.conda/envs/qe/lib/python3.9/subprocess.py?line=1194'>1195</a>\u001b[0m     \u001b[39mif\u001b[39;00m timeout \u001b[39mis\u001b[39;00m \u001b[39mnot\u001b[39;00m \u001b[39mNone\u001b[39;00m:\n",
      "File \u001b[0;32m~/.conda/envs/qe/lib/python3.9/subprocess.py:1917\u001b[0m, in \u001b[0;36mPopen._wait\u001b[0;34m(self, timeout)\u001b[0m\n\u001b[1;32m   <a href='file:///home/yourn/.conda/envs/qe/lib/python3.9/subprocess.py?line=1914'>1915</a>\u001b[0m \u001b[39mif\u001b[39;00m \u001b[39mself\u001b[39m\u001b[39m.\u001b[39mreturncode \u001b[39mis\u001b[39;00m \u001b[39mnot\u001b[39;00m \u001b[39mNone\u001b[39;00m:\n\u001b[1;32m   <a href='file:///home/yourn/.conda/envs/qe/lib/python3.9/subprocess.py?line=1915'>1916</a>\u001b[0m     \u001b[39mbreak\u001b[39;00m  \u001b[39m# Another thread waited.\u001b[39;00m\n\u001b[0;32m-> <a href='file:///home/yourn/.conda/envs/qe/lib/python3.9/subprocess.py?line=1916'>1917</a>\u001b[0m (pid, sts) \u001b[39m=\u001b[39m \u001b[39mself\u001b[39;49m\u001b[39m.\u001b[39;49m_try_wait(\u001b[39m0\u001b[39;49m)\n\u001b[1;32m   <a href='file:///home/yourn/.conda/envs/qe/lib/python3.9/subprocess.py?line=1917'>1918</a>\u001b[0m \u001b[39m# Check the pid and loop as waitpid has been known to\u001b[39;00m\n\u001b[1;32m   <a href='file:///home/yourn/.conda/envs/qe/lib/python3.9/subprocess.py?line=1918'>1919</a>\u001b[0m \u001b[39m# return 0 even without WNOHANG in odd situations.\u001b[39;00m\n\u001b[1;32m   <a href='file:///home/yourn/.conda/envs/qe/lib/python3.9/subprocess.py?line=1919'>1920</a>\u001b[0m \u001b[39m# http://bugs.python.org/issue14396.\u001b[39;00m\n\u001b[1;32m   <a href='file:///home/yourn/.conda/envs/qe/lib/python3.9/subprocess.py?line=1920'>1921</a>\u001b[0m \u001b[39mif\u001b[39;00m pid \u001b[39m==\u001b[39m \u001b[39mself\u001b[39m\u001b[39m.\u001b[39mpid:\n",
      "File \u001b[0;32m~/.conda/envs/qe/lib/python3.9/subprocess.py:1875\u001b[0m, in \u001b[0;36mPopen._try_wait\u001b[0;34m(self, wait_flags)\u001b[0m\n\u001b[1;32m   <a href='file:///home/yourn/.conda/envs/qe/lib/python3.9/subprocess.py?line=1872'>1873</a>\u001b[0m \u001b[39m\"\"\"All callers to this function MUST hold self._waitpid_lock.\"\"\"\u001b[39;00m\n\u001b[1;32m   <a href='file:///home/yourn/.conda/envs/qe/lib/python3.9/subprocess.py?line=1873'>1874</a>\u001b[0m \u001b[39mtry\u001b[39;00m:\n\u001b[0;32m-> <a href='file:///home/yourn/.conda/envs/qe/lib/python3.9/subprocess.py?line=1874'>1875</a>\u001b[0m     (pid, sts) \u001b[39m=\u001b[39m os\u001b[39m.\u001b[39;49mwaitpid(\u001b[39mself\u001b[39;49m\u001b[39m.\u001b[39;49mpid, wait_flags)\n\u001b[1;32m   <a href='file:///home/yourn/.conda/envs/qe/lib/python3.9/subprocess.py?line=1875'>1876</a>\u001b[0m \u001b[39mexcept\u001b[39;00m \u001b[39mChildProcessError\u001b[39;00m:\n\u001b[1;32m   <a href='file:///home/yourn/.conda/envs/qe/lib/python3.9/subprocess.py?line=1876'>1877</a>\u001b[0m     \u001b[39m# This happens if SIGCLD is set to be ignored or waiting\u001b[39;00m\n\u001b[1;32m   <a href='file:///home/yourn/.conda/envs/qe/lib/python3.9/subprocess.py?line=1877'>1878</a>\u001b[0m     \u001b[39m# for child processes has otherwise been disabled for our\u001b[39;00m\n\u001b[1;32m   <a href='file:///home/yourn/.conda/envs/qe/lib/python3.9/subprocess.py?line=1878'>1879</a>\u001b[0m     \u001b[39m# process.  This child is dead, we can't get the status.\u001b[39;00m\n\u001b[1;32m   <a href='file:///home/yourn/.conda/envs/qe/lib/python3.9/subprocess.py?line=1879'>1880</a>\u001b[0m     pid \u001b[39m=\u001b[39m \u001b[39mself\u001b[39m\u001b[39m.\u001b[39mpid\n",
      "\u001b[0;31mKeyboardInterrupt\u001b[0m: "
     ]
    }
   ],
   "source": [
    "from openfermion.chem import MolecularData\n",
    "from openfermionpsi4 import run_psi4\n",
    "\n",
    "# Set molecule parameters.\n",
    "basis = '3-21g'\n",
    "multiplicity = 1\n",
    "bond_length_interval = 0.2\n",
    "n_points = 10\n",
    "\n",
    "# Set calculation parameters.\n",
    "run_scf = 1\n",
    "run_mp2 = 1\n",
    "run_cisd = 0\n",
    "run_ccsd = 0\n",
    "run_fci = 1\n",
    "delete_input = True\n",
    "delete_output = True\n",
    "\n",
    "# Generate molecule at different bond lengths.\n",
    "hf_energies = []\n",
    "fci_energies = []\n",
    "bond_lengths = []\n",
    "for point in range(1, n_points + 1):\n",
    "    bond_length = bond_length_interval * float(point)\n",
    "    bond_lengths += [bond_length]\n",
    "    geometry = [('Cl', (-1.4594, -0.9208, -0.0001)), ('Cl', (1.4592, -0.921, -0.0002)), ('F', (0.0002, 0.8843, 1.0887)), ('F', (0, 0.8847, -1.0884)), ('C', (0, 0.0728, 0))]\n",
    "    molecule = MolecularData(\n",
    "        geometry, basis, multiplicity,\n",
    "        description=str(round(bond_length, 2)))\n",
    "    \n",
    "    # Run Psi4.\n",
    "    molecule = run_psi4(molecule,\n",
    "                        run_scf=run_scf,\n",
    "                        run_mp2=run_mp2,\n",
    "                        run_cisd=run_cisd,\n",
    "                        run_ccsd=run_ccsd,\n",
    "                        run_fci=run_fci)\n",
    "    n_qubit = molecule.n_qubits\n",
    "    n_electron = molecule.n_electrons\n",
    "\n",
    "    # Print out some results of calculation.\n",
    "    print('\\nAt bond length of {} angstrom, molecular hydrogen flouride has:'.format(\n",
    "        bond_length))\n",
    "    print('Hartree-Fock energy of {} Hartree.'.format(molecule.hf_energy))\n",
    "    print('MP2 energy of {} Hartree.'.format(molecule.mp2_energy))\n",
    "    print('FCI energy of {} Hartree.'.format(molecule.fci_energy))\n",
    "    print('Nuclear repulsion energy between protons is {} Hartree.'.format(\n",
    "        molecule.nuclear_repulsion))\n",
    "    for orbital in range(molecule.n_orbitals):\n",
    "        print('Spatial orbital {} has energy of {} Hartree.'.format(\n",
    "            orbital, molecule.orbital_energies[orbital]))\n",
    "    hf_energies += [molecule.hf_energy]\n",
    "    fci_energies += [molecule.fci_energy]\n",
    "\n",
    "# Plot.\n",
    "import matplotlib.pyplot as plt\n",
    "%matplotlib inline\n",
    "\n",
    "plt.figure(0)\n",
    "plt.plot(bond_lengths, fci_energies, 'x-')\n",
    "plt.plot(bond_lengths, hf_energies, 'o-')\n",
    "plt.ylabel('Energy in Hartree')\n",
    "plt.xlabel('Bond length in angstrom')\n",
    "plt.show()"
   ]
  },
  {
   "cell_type": "code",
   "execution_count": null,
   "metadata": {},
   "outputs": [],
   "source": [
    "fermionic_hamiltonian = get_fermion_operator(molecule.get_molecular_hamiltonian())\n",
    "jw_hamiltonian = jordan_wigner(fermionic_hamiltonian)"
   ]
  },
  {
   "cell_type": "code",
   "execution_count": null,
   "metadata": {},
   "outputs": [],
   "source": [
    "print(jw_hamiltonian)"
   ]
  },
  {
   "cell_type": "code",
   "execution_count": null,
   "metadata": {},
   "outputs": [],
   "source": [
    "from qulacs import Observable\n",
    "from qulacs.observable import create_observable_from_openfermion_text\n",
    "import numpy as np\n",
    "import matplotlib.pyplot as plt"
   ]
  },
  {
   "cell_type": "code",
   "execution_count": null,
   "metadata": {},
   "outputs": [],
   "source": [
    "qulacs_hamiltonian = create_observable_from_openfermion_text(str(jw_hamiltonian))"
   ]
  },
  {
   "cell_type": "code",
   "execution_count": null,
   "metadata": {},
   "outputs": [],
   "source": [
    "from qulacs import QuantumState, QuantumCircuit\n",
    "from qulacs.gate import CZ, RY, RZ, merge\n",
    "\n",
    "depth = n_qubit"
   ]
  },
  {
   "cell_type": "code",
   "execution_count": null,
   "metadata": {},
   "outputs": [],
   "source": [
    "def he_ansatz_circuit(n_qubit, depth, theta_list):\n",
    "    \"\"\"he_ansatz_circuit\n",
    "    Returns hardware efficient ansatz circuit.\n",
    "\n",
    "    Args:\n",
    "        n_qubit (:class:`int`):\n",
    "            the number of qubit used (equivalent to the number of fermionic modes)\n",
    "        depth (:class:`int`):\n",
    "            depth of the circuit.\n",
    "        theta_list (:class:`numpy.ndarray`):\n",
    "            rotation angles.\n",
    "    Returns:\n",
    "        :class:`qulacs.QuantumCircuit`\n",
    "    \"\"\"\n",
    "    circuit = QuantumCircuit(n_qubit)\n",
    "    for d in range(depth):\n",
    "        for i in range(n_qubit):\n",
    "            circuit.add_gate(merge(RY(i, theta_list[2*i+2*n_qubit*d]), RZ(i, theta_list[2*i+1+2*n_qubit*d])))\n",
    "        for i in range(n_qubit//2):\n",
    "            circuit.add_gate(CZ(2*i, 2*i+1))\n",
    "        for i in range(n_qubit//2-1):\n",
    "            circuit.add_gate(CZ(2*i+1, 2*i+2))\n",
    "    for i in range(n_qubit):\n",
    "        circuit.add_gate(merge(RY(i, theta_list[2*i+2*n_qubit*depth]), RZ(i, theta_list[2*i+1+2*n_qubit*depth])))\n",
    "\n",
    "    return circuit"
   ]
  },
  {
   "cell_type": "code",
   "execution_count": null,
   "metadata": {},
   "outputs": [],
   "source": [
    "def cost(theta_list):\n",
    "    state = QuantumState(n_qubit) #Prepare |00000>\n",
    "    circuit = he_ansatz_circuit(n_qubit, depth, theta_list) #Construct quantum circuit\n",
    "    circuit.update_quantum_state(state) #Operate quantum circuit on state\n",
    "    return qulacs_hamiltonian.get_expectation_value(state) #Calculate expectation value of Hamiltonian\n"
   ]
  },
  {
   "cell_type": "code",
   "execution_count": null,
   "metadata": {},
   "outputs": [],
   "source": [
    "cost_history = []\n",
    "init_theta_list = np.random.random(2*n_qubit*(depth+1))*1e-1\n",
    "cost_history.append(cost(init_theta_list))\n",
    "method = \"BFGS\"\n",
    "options = {\"disp\": True, \"maxiter\": 50, \"gtol\": 1e-6}\n",
    "opt = minimize(cost, init_theta_list,\n",
    "               method=method,\n",
    "               callback=lambda x: cost_history.append(cost(x)))"
   ]
  },
  {
   "cell_type": "code",
   "execution_count": null,
   "metadata": {},
   "outputs": [],
   "source": [
    "\n",
    "plt.rcParams[\"font.size\"] = 18\n",
    "plt.plot(cost_history, color=\"red\", label=\"VQE\")\n",
    "plt.plot(range(len(cost_history)), [molecule.fci_energy]*len(cost_history), linestyle=\"dashed\", color=\"black\", label=\"Exact Solution\")\n",
    "plt.xlabel(\"Iteration\")\n",
    "plt.ylabel(\"Energy expectation value\")\n",
    "plt.legend()\n",
    "plt.show()\n"
   ]
  }
 ],
 "metadata": {
  "kernelspec": {
   "display_name": "Python 3.9.12 ('qe')",
   "language": "python",
   "name": "python3"
  },
  "language_info": {
   "codemirror_mode": {
    "name": "ipython",
    "version": 3
   },
   "file_extension": ".py",
   "mimetype": "text/x-python",
   "name": "python",
   "nbconvert_exporter": "python",
   "pygments_lexer": "ipython3",
   "version": "3.9.12"
  },
  "vscode": {
   "interpreter": {
    "hash": "23fcf53b5975ac7fa2f5fc870d5daa96b7c2286ddae652fbb0da72cdf6184200"
   }
  }
 },
 "nbformat": 4,
 "nbformat_minor": 2
}
